{
 "cells": [
  {
   "cell_type": "code",
   "execution_count": 1,
   "id": "b3102220-9b29-42b8-95f3-3e9d3826572e",
   "metadata": {},
   "outputs": [
    {
     "name": "stdout",
     "output_type": "stream",
     "text": [
      "Tweets filtrados foram salvos em: C:\\Users\\rebec\\Downloads\\filtered_tweets_with_border.xlsx\n"
     ]
    }
   ],
   "source": [
    "import pandas as pd\n",
    "\n",
    "# Caminho do arquivo CSV\n",
    "file_path = r\"C:\\Users\\rebec\\Downloads\\data (2).csv\"\n",
    "\n",
    "# Carregar o arquivo CSV\n",
    "tweets_df = pd.read_csv(file_path)\n",
    "\n",
    "# Ajustar os nomes das colunas corretamente\n",
    "date_column = \"Date\"  # Coluna de datas\n",
    "tweet_column = \"Text\"  # Coluna de texto dos tweets\n",
    "\n",
    "# Converter a coluna de datas para datetime\n",
    "tweets_df[date_column] = pd.to_datetime(tweets_df[date_column], errors='coerce')\n",
    "\n",
    "# Filtrar pelo intervalo de datas\n",
    "filtered_date_df = tweets_df[\n",
    "    (tweets_df[date_column] >= '2015-01-01') & (tweets_df[date_column] <= '2016-11-30')\n",
    "]\n",
    "\n",
    "# Palavras-chave para buscar nos tweets \n",
    "keywords = ['immigrant', 'latinos', 'mexicanos', 'wall', 'border']\n",
    "\n",
    "# Filtrar os tweets que contêm as palavras-chave (case-insensitive)\n",
    "filtered_tweets = filtered_date_df[\n",
    "    filtered_date_df[tweet_column].str.contains('|'.join(keywords), case=False, na=False)\n",
    "]\n",
    "\n",
    "# Excluir tweets que mencionam \"Wall Street\" (case-insensitive)\n",
    "final_filtered_tweets = filtered_tweets[\n",
    "    ~filtered_tweets[tweet_column].str.contains('Wall Street', case=False, na=False)\n",
    "]\n",
    "\n",
    "# Selecionar apenas as colunas relevantes\n",
    "result_df = final_filtered_tweets[[date_column, tweet_column, 'Retweets', 'Favorites']]\n",
    "\n",
    "# Salvar os resultados organizados em um arquivo Excel\n",
    "output_excel_path = r\"C:\\Users\\rebec\\Downloads\\filtered_tweets_with_border.xlsx\"\n",
    "result_df.to_excel(output_excel_path, index=False, sheet_name='Filtered Tweets')\n",
    "\n",
    "print(f\"Tweets filtrados foram salvos em: {output_excel_path}\")\n"
   ]
  },
  {
   "cell_type": "code",
   "execution_count": null,
   "id": "2b28c013-ef2f-4163-84dd-3e1c99b1c57c",
   "metadata": {},
   "outputs": [],
   "source": []
  }
 ],
 "metadata": {
  "kernelspec": {
   "display_name": "Python 3 (ipykernel)",
   "language": "python",
   "name": "python3"
  },
  "language_info": {
   "codemirror_mode": {
    "name": "ipython",
    "version": 3
   },
   "file_extension": ".py",
   "mimetype": "text/x-python",
   "name": "python",
   "nbconvert_exporter": "python",
   "pygments_lexer": "ipython3",
   "version": "3.11.7"
  }
 },
 "nbformat": 4,
 "nbformat_minor": 5
}
